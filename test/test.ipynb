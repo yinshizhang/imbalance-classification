{
 "cells": [
  {
   "cell_type": "code",
   "execution_count": 1,
   "metadata": {},
   "outputs": [],
   "source": [
    "from data import load_data, resampling, csvDS, test_split\n",
    "from models import MLP\n",
    "from torch import nn\n",
    "from torch.optim import SGD\n",
    "import torch"
   ]
  },
  {
   "cell_type": "code",
   "execution_count": 2,
   "metadata": {},
   "outputs": [
    {
     "name": "stdout",
     "output_type": "stream",
     "text": [
      "==================== vehicle ====================\n",
      "original: (846, 18) (846,) 199.0 float32 float32\n",
      "nonsampling (846, 18) (846,) 199.0 float32 float32\n",
      "oversampling (1294, 18) (1294,) 647.0 float32 float32\n",
      "smote (1294, 18) (1294,) 647.0 float32 float32\n",
      "adasyn (1296, 18) (1296,) 649.0 float32 float32\n",
      "blmovgen (1294, 18) (1294,) 647.0 float32 float64\n",
      "admovgen (1294, 18) (1294,) 647.0 float32 float64\n",
      "adboth (1612, 18) (1612,) 806.0 float32 float64\n",
      "==================== diabete ====================\n",
      "original: (768, 8) (768,) 268.0 float32 float32\n",
      "nonsampling (768, 8) (768,) 268.0 float32 float32\n",
      "oversampling (1000, 8) (1000,) 500.0 float32 float32\n",
      "smote (1000, 8) (1000,) 500.0 float32 float32\n",
      "adasyn (974, 8) (974,) 474.0 float32 float32\n",
      "blmovgen (1000, 8) (1000,) 500.0 float32 float64\n",
      "admovgen (1000, 8) (1000,) 500.0 float32 float64\n",
      "adboth (2036, 8) (2036,) 1018.0 float32 float64\n",
      "==================== vowel ====================\n",
      "original: (990, 10) (990,) 90.0 float32 float32\n",
      "nonsampling (990, 10) (990,) 90.0 float32 float32\n",
      "oversampling (1800, 10) (1800,) 900.0 float32 float32\n",
      "smote (1800, 10) (1800,) 900.0 float32 float32\n",
      "adasyn (1800, 10) (1800,) 900.0 float32 float32\n",
      "blmovgen (1800, 10) (1800,) 900.0 float32 float64\n",
      "admovgen (1800, 10) (1800,) 900.0 float32 float64\n",
      "adboth (1804, 10) (1804,) 902.0 float32 float64\n",
      "==================== ionosphere ====================\n",
      "original: (351, 34) (351,) 126.0 float32 float32\n",
      "nonsampling (351, 34) (351,) 126.0 float32 float32\n",
      "oversampling (450, 34) (450,) 225.0 float32 float32\n",
      "smote (450, 34) (450,) 225.0 float32 float32\n",
      "adasyn (456, 34) (456,) 231.0 float32 float32\n",
      "blmovgen (450, 34) (450,) 225.0 float32 float64\n",
      "admovgen (450, 34) (450,) 225.0 float32 float64\n",
      "adboth (492, 34) (492,) 246.0 float32 float64\n",
      "==================== abalone ====================\n",
      "original: (731, 7) (731,) 42.0 float32 float32\n",
      "nonsampling (731, 7) (731,) 42.0 float32 float32\n",
      "oversampling (1378, 7) (1378,) 689.0 float32 float32\n",
      "smote (1378, 7) (1378,) 689.0 float32 float32\n",
      "adasyn (1387, 7) (1387,) 698.0 float32 float32\n",
      "blmovgen (1378, 7) (1378,) 689.0 float32 float64\n",
      "admovgen (1378, 7) (1378,) 689.0 float32 float64\n",
      "adboth (1486, 7) (1486,) 743.0 float32 float64\n"
     ]
    }
   ],
   "source": [
    "# test all sampling methods\n",
    "for dsname in ['vehicle', 'diabete', 'vowel', 'ionosphere', 'abalone']:\n",
    "    x, y = load_data(dsname)\n",
    "    print('='*20, dsname, '='*20)\n",
    "    print('original:', x.shape, y.shape, y.sum(), x.dtype, y.dtype)\n",
    "    for sampling in ['nonsampling', 'oversampling', 'smote', 'adasyn', 'blmovgen', 'admovgen', 'adboth']:\n",
    "    # for sampling in ['nonsampling', 'oversampling', 'smote', 'adasyn', 'blsmote', 'adsmote', 'adboth']:\n",
    "        x_resampl, y_resampl = resampling(x, y, sampling=sampling)\n",
    "        print(sampling, x_resampl.shape, y_resampl.shape, y_resampl.sum(), x_resampl.dtype, y_resampl.dtype)\n",
    "\n"
   ]
  },
  {
   "cell_type": "code",
   "execution_count": 4,
   "metadata": {},
   "outputs": [
    {
     "name": "stdout",
     "output_type": "stream",
     "text": [
      "9 0.6916780471801758\n",
      "19 0.6903680562973022\n",
      "29 0.6892580389976501\n",
      "39 0.6883236169815063\n",
      "test acc: 0.7928994297981262\n"
     ]
    }
   ],
   "source": [
    "# training workflows\n",
    "\n",
    "# define the parameters\n",
    "dsname = 'vehicle'\n",
    "sampling = 'adasyn'\n",
    "normalize = 'scale'\n",
    "seed = 0\n",
    "test_size = 0.2\n",
    "\n",
    "# load data\n",
    "x, y = load_data(dsname)\n",
    "x_train, x_test, y_train, y_test = test_split(x, y, test_size=test_size, seed=seed)\n",
    "x_train, y_train = resampling(x_train, y_train, sampling=sampling, normalize=normalize, seed=seed)\n",
    "\n",
    "# convert to dataset\n",
    "train_ds = csvDS(x_train, y_train)\n",
    "test_ds = csvDS(x_test, y_test)\n",
    "\n",
    "# define the model\n",
    "model = MLP(input_size=x_train.shape[1])\n",
    "\n",
    "# define the loss function\n",
    "loss_fn = nn.BCEWithLogitsLoss()\n",
    "optimizer = SGD(model.parameters(), lr=1e-3)\n",
    "\n",
    "# train the model\n",
    "for t in range(40):\n",
    "    # Forward pass: compute predicted y by passing x to the model.\n",
    "    y_pred = model(train_ds.x)\n",
    "\n",
    "    # Compute and print loss.\n",
    "    loss = loss_fn(y_pred, train_ds.y)\n",
    "    if t % 10 == 9:\n",
    "        print(t, loss.item())\n",
    "\n",
    "    # Zero gradients, perform a backward pass, and update the weights.\n",
    "    optimizer.zero_grad()\n",
    "    loss.backward()\n",
    "    optimizer.step()\n",
    "\n",
    "# test the model\n",
    "with torch.no_grad():\n",
    "    y_pred = model(test_ds.x)\n",
    "    y_pred = torch.sigmoid(y_pred)\n",
    "    y_pred = (y_pred > 0.5).float()\n",
    "    print('test acc:', (y_pred == test_ds.y).float().mean().item())\n"
   ]
  }
 ],
 "metadata": {
  "kernelspec": {
   "display_name": "fl",
   "language": "python",
   "name": "python3"
  },
  "language_info": {
   "codemirror_mode": {
    "name": "ipython",
    "version": 3
   },
   "file_extension": ".py",
   "mimetype": "text/x-python",
   "name": "python",
   "nbconvert_exporter": "python",
   "pygments_lexer": "ipython3",
   "version": "3.9.7"
  },
  "orig_nbformat": 4
 },
 "nbformat": 4,
 "nbformat_minor": 2
}
